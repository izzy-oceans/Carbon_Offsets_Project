{
 "cells": [
  {
   "cell_type": "markdown",
   "metadata": {},
   "source": [
    "Notebook to process the issuances from different registries."
   ]
  },
  {
   "cell_type": "code",
   "execution_count": 1,
   "metadata": {},
   "outputs": [],
   "source": [
    "import numpy as np\n",
    "import pandas as pd"
   ]
  },
  {
   "cell_type": "code",
   "execution_count": 25,
   "metadata": {},
   "outputs": [],
   "source": [
    "# BC Carbon Registry Issuances\n",
    "root_BCregistry = '../data/offset_registries/BCcarbon_registry/'\n",
    "bc_issuances = pd.read_csv(f'{root_BCregistry}BCcarbon_registry_issuances.csv')\n",
    "bc_issuances = bc_issuances.rename(columns = {'Project':'Project Name', 'Units': 'Issuances'})\n",
    "# Remove , in Issuances\n",
    "bc_issuances['Issuances'] = bc_issuances['Issuances'].str.replace(',', '').astype(float)"
   ]
  },
  {
   "cell_type": "code",
   "execution_count": 3,
   "metadata": {},
   "outputs": [],
   "source": [
    "# UBerk Issuances excel\n",
    "uberk_raw = pd.read_excel('../data/offset_registries/UBerkley/UBerk_Voluntary-Registry-Offsets-Database--v2024-12-year-end.xlsx', \n",
    "                          sheet_name='PROJECTS', skiprows=3)"
   ]
  },
  {
   "cell_type": "code",
   "execution_count": 4,
   "metadata": {},
   "outputs": [],
   "source": [
    "# take first column and columns 12 to 52\n",
    "uberk_issuances = uberk_raw.iloc[:, [0] + list(range(23,52))]\n",
    "\n",
    "# Pivot year columns to long format\n",
    "uberk_issuances = uberk_issuances.melt(id_vars='Project ID', var_name='Vintage', value_name='Issuances')\n",
    "\n",
    "# Join the rest of the metadata\n",
    "uberk_issuances = uberk_issuances.merge(uberk_raw.iloc[:, [0, 1, 5, 6, 11]], on='Project ID')\n",
    "\n",
    "# Filter for Canada\n",
    "uberk_issuances = uberk_issuances[uberk_issuances['Country'] == 'Canada'].drop(columns=['Country']).rename(columns={'Scope': 'Project Type'})"
   ]
  },
  {
   "cell_type": "code",
   "execution_count": 5,
   "metadata": {},
   "outputs": [
    {
     "name": "stdout",
     "output_type": "stream",
     "text": [
      "Index(['Vintage', 'Project Name', 'Account', 'Project Type', 'Verifier',\n",
      "       'Issuances', 'Measurement', 'Details'],\n",
      "      dtype='object')\n",
      "Index(['Project ID', 'Vintage', 'Issuances', 'Project Name', 'Project Type',\n",
      "       'Type'],\n",
      "      dtype='object')\n"
     ]
    }
   ],
   "source": [
    "print(bc_issuances.columns)\n",
    "print(uberk_issuances.columns)"
   ]
  },
  {
   "cell_type": "code",
   "execution_count": 35,
   "metadata": {},
   "outputs": [],
   "source": [
    "# Combine the two datasets \n",
    "issuances = pd.concat([bc_issuances[['Vintage', 'Project Name', 'Issuances', 'Project Type']], \n",
    "                       uberk_issuances[['Vintage', 'Project Name', 'Issuances', 'Project Type', 'Type']]], ignore_index=True, axis=0)\n",
    "# Calculate the total issuances by project\n",
    "issuances['Issuances'] = pd.to_numeric(issuances['Issuances'], errors='coerce')\n",
    "total_issuances = issuances[['Project Name', 'Project Type', 'Issuances']].groupby(['Project Name', 'Project Type']).sum().reset_index().rename(columns={'Issuances': 'Total Issuances'})\n",
    "\n",
    "issuances = issuances.merge(total_issuances, on=['Project Name', 'Project Type'], how='left').reset_index()\n",
    "\n",
    "## TODO: Deal with vintages that span multiple years\n",
    "\n",
    "forest_issuances = issuances[(issuances['Project Type'] == 'Sequestration') | (issuances['Project Type'] == 'Forestry & Land Use')]\n",
    "forest_issuances.to_csv('../data/offset_registries/forestry_projects_issuances.csv', index=False)"
   ]
  }
 ],
 "metadata": {
  "kernelspec": {
   "display_name": ".venv",
   "language": "python",
   "name": "python3"
  },
  "language_info": {
   "codemirror_mode": {
    "name": "ipython",
    "version": 3
   },
   "file_extension": ".py",
   "mimetype": "text/x-python",
   "name": "python",
   "nbconvert_exporter": "python",
   "pygments_lexer": "ipython3",
   "version": "3.10.0"
  }
 },
 "nbformat": 4,
 "nbformat_minor": 2
}
